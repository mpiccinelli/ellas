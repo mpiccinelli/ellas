{
 "cells": [
  {
   "cell_type": "markdown",
   "id": "d22481da-44c2-4e51-a32f-a0c2d711c053",
   "metadata": {},
   "source": [
    "# Análise exploratória"
   ]
  },
  {
   "cell_type": "markdown",
   "id": "892b5f63",
   "metadata": {},
   "source": [
    "## Carregamento e preparação dos dados"
   ]
  },
  {
   "cell_type": "markdown",
   "id": "370ec855-083f-4859-bf92-513517deb207",
   "metadata": {
    "jp-MarkdownHeadingCollapsed": true
   },
   "source": [
    "### Obtenção e carregamento de dados  "
   ]
  },
  {
   "cell_type": "code",
   "execution_count": null,
   "id": "fe43db2f-1929-4b0b-8a5c-23317b96f039",
   "metadata": {},
   "outputs": [],
   "source": [
    "#importação de bibliotecas\n",
    "import pandas as pd"
   ]
  },
  {
   "cell_type": "code",
   "execution_count": null,
   "id": "239aa350-f99e-4d67-8a1e-e7ca5edc018e",
   "metadata": {},
   "outputs": [],
   "source": [
    "# Importação dos dados gerais\n",
    "df_dataset_cleaned = pd.read_csv('../Data/Normalization/data_cleaned.csv', sep=';', encoding='utf-8-sig')\n",
    "\n",
    "# Importação dos dados para mesclagem\n",
    "df_to_merge = pd.read_csv('../Data/Normalization/Course/normalization_courses_with_translated.csv', sep=';', encoding='utf-8-sig')\n",
    "\n",
    "# Carregar dicionário de dados\n",
    "df_dictionary = pd.read_csv(\"../Data/Dictionaries/dictionary_course_area.csv\", encoding=\"utf-8\", sep=\";\", on_bad_lines='skip')"
   ]
  },
  {
   "cell_type": "markdown",
   "id": "fee30b6c",
   "metadata": {},
   "source": [
    "### Informações sobre o dataset principal"
   ]
  },
  {
   "cell_type": "code",
   "execution_count": null,
   "id": "14528b43",
   "metadata": {},
   "outputs": [],
   "source": [
    "#Exibir informações sobre o dataframe\n",
    "df_dataset_cleaned.info()\n",
    "\n",
    "#Exibir as primeiras linhas do dataframe\n",
    "df_dataset_cleaned.describe()"
   ]
  },
  {
   "cell_type": "markdown",
   "id": "85d97261",
   "metadata": {},
   "source": [
    "### Visualização dos dados principais"
   ]
  },
  {
   "cell_type": "code",
   "execution_count": null,
   "id": "59372e48",
   "metadata": {},
   "outputs": [],
   "source": [
    "#Exibir as primeiras linhas do dataframe\n",
    "df_dataset_cleaned.head()"
   ]
  },
  {
   "cell_type": "markdown",
   "id": "c370d7c0",
   "metadata": {},
   "source": [
    "### Definição de índices do dataset principal"
   ]
  },
  {
   "cell_type": "code",
   "execution_count": null,
   "id": "cf1a0d52",
   "metadata": {},
   "outputs": [],
   "source": [
    "# Colocar a coluna 'survey_Id' na primeira posição\n",
    "df_dataset_cleaned = df_dataset_cleaned[['survey_Id'] + [col for col in df_dataset_cleaned.columns if col != 'survey_Id']]\n",
    "\n",
    "# Definir o índice do dataframe como a coluna 'survey_Id'\n",
    "df_dataset_cleaned.set_index('survey_Id', inplace=True)\n",
    "\n",
    "# Exibir as primeiras linhas do dataframe\n",
    "df_dataset_cleaned.head()"
   ]
  },
  {
   "cell_type": "markdown",
   "id": "be2dfd1a",
   "metadata": {},
   "source": [
    "### Informações sobre o dataset para mesclagem"
   ]
  },
  {
   "cell_type": "code",
   "execution_count": null,
   "id": "a558c016",
   "metadata": {},
   "outputs": [],
   "source": [
    "#Exibir informações sobre o dataframe\n",
    "df_to_merge.info()\n",
    "\n",
    "#Exibir as primeiras linhas do dataframe\n",
    "df_to_merge.describe()"
   ]
  },
  {
   "cell_type": "markdown",
   "id": "f8048dd3",
   "metadata": {},
   "source": [
    "### Visualização dos dados de mesclagem"
   ]
  },
  {
   "cell_type": "code",
   "execution_count": null,
   "id": "14439aee",
   "metadata": {},
   "outputs": [],
   "source": [
    "# Exibir as primeiras linhas do dataframe\n",
    "df_to_merge.head()"
   ]
  },
  {
   "cell_type": "markdown",
   "id": "1894b2c5",
   "metadata": {},
   "source": [
    "### Definição de índices do dataset de mesclagem"
   ]
  },
  {
   "cell_type": "code",
   "execution_count": null,
   "id": "00fdaa45",
   "metadata": {},
   "outputs": [],
   "source": [
    "# Colocar a coluna 'survey_Id' na primeira posição\n",
    "df_to_merge = df_to_merge[['survey_Id'] + [col for col in df_to_merge.columns if col != 'survey_Id']]\n",
    "\n",
    "# Definir o índice do dataframe como a coluna 'survey_Id'\n",
    "df_to_merge.set_index('survey_Id', inplace=True)\n",
    "\n",
    "# Exibir as primeiras linhas do dataframe\n",
    "df_to_merge.head()\n",
    "\n"
   ]
  },
  {
   "cell_type": "markdown",
   "id": "2039acc2",
   "metadata": {},
   "source": [
    "## Mesclagem dos datasets"
   ]
  },
  {
   "cell_type": "markdown",
   "id": "544474ce",
   "metadata": {},
   "source": [
    "### Combinar os dataframes"
   ]
  },
  {
   "cell_type": "code",
   "execution_count": null,
   "id": "02032968",
   "metadata": {},
   "outputs": [],
   "source": [
    "# Combinar os dois dataframes com base na coluna 'survey_Id'\n",
    "df_combined = df_dataset_cleaned.merge(df_to_merge[['D9_3_1_O_college_area_other_translate_es', 'D9_3_2_O_master_area_other_translate_es', 'D9_3_3_O_doctorate_area_other_translate_es', 'D9_3_4_O_postdoc_area_other_translate_es']], left_index=True, right_index=True, how='inner')\n",
    "\n",
    "# Exibir as primeiras linhas do novo dataframe\n",
    "df_combined.head()"
   ]
  },
  {
   "cell_type": "markdown",
   "id": "4c50e44a",
   "metadata": {},
   "source": [
    "### Ordenar colunas"
   ]
  },
  {
   "cell_type": "code",
   "execution_count": null,
   "id": "e3e9c254",
   "metadata": {},
   "outputs": [],
   "source": [
    "# dicionário que mapeia cada coluna-origem para sua correspondente de tradução\n",
    "pairs = {\n",
    "    'D9_3_1_O_college_area_other':    'D9_3_1_O_college_area_other_translate_es',\n",
    "    'D9_3_2_O_master_area_other':     'D9_3_2_O_master_area_other_translate_es',\n",
    "    'D9_3_3_O_doctorate_area_other':  'D9_3_3_O_doctorate_area_other_translate_es',\n",
    "    'D9_3_4_O_postdoc_area_other':    'D9_3_4_O_postdoc_area_other_translate_es',\n",
    "}\n",
    "\n",
    "# pega a lista atual de colunas\n",
    "cols = list(df_combined.columns)\n",
    "\n",
    "# para cada par, \"move\" a coluna de tradução para logo depois da coluna-origem\n",
    "for base_col, trans_col in pairs.items():\n",
    "    if base_col in cols and trans_col in cols:\n",
    "        # retira a coluna de tradução da posição atual\n",
    "        cols.remove(trans_col)\n",
    "        # insere-a imediatamente após a coluna-origem\n",
    "        insert_pos = cols.index(base_col) + 1\n",
    "        cols.insert(insert_pos, trans_col)\n",
    "\n",
    "# reorganiza o DataFrame segundo a nova ordem de colunas\n",
    "df_combined = df_combined[cols]\n",
    "\n",
    "# opcional: conferir o resultado\n",
    "df_combined.head()"
   ]
  },
  {
   "cell_type": "markdown",
   "id": "f10db9d8",
   "metadata": {},
   "source": [
    "### Remover colunas desnecessárias"
   ]
  },
  {
   "cell_type": "code",
   "execution_count": null,
   "id": "da115760",
   "metadata": {},
   "outputs": [],
   "source": [
    "#Remove as colunas 'D9_3_1_O_college_area_other', 'D9_3_2_O_master_area_other', 'D9_3_3_O_doctorate_area_other', 'D9_3_4_O_postdoc_area_other' do dataframe\n",
    "df_combined.drop(columns=['D9_3_1_O_college_area_other', 'D9_3_2_O_master_area_other', 'D9_3_3_O_doctorate_area_other', 'D9_3_4_O_postdoc_area_other'], inplace=True)"
   ]
  },
  {
   "cell_type": "markdown",
   "id": "ec4d0a50",
   "metadata": {},
   "source": [
    "### Renomear colunas"
   ]
  },
  {
   "cell_type": "code",
   "execution_count": null,
   "id": "aa3a7041",
   "metadata": {},
   "outputs": [],
   "source": [
    "# Renomear colunas\n",
    "df_combined.rename(columns={\n",
    "    'D9_3_1_O_college_area_other_translate_es': 'D9_3_1_O_college_area_other',\n",
    "    'D9_3_2_O_master_area_other_translate_es': 'D9_3_2_O_master_area_other',\n",
    "    'D9_3_3_O_doctorate_area_other_translate_es': 'D9_3_3_O_doctorate_area_other',\n",
    "    'D9_3_4_O_postdoc_area_other_translate_es': 'D9_3_4_O_postdoc_area_other'\n",
    "}, inplace=True)"
   ]
  },
  {
   "cell_type": "markdown",
   "id": "79010c0c",
   "metadata": {},
   "source": [
    "### Adicionar colunas de descrição das áreas"
   ]
  },
  {
   "cell_type": "code",
   "execution_count": null,
   "id": "acc0fdd2",
   "metadata": {},
   "outputs": [],
   "source": [
    "#Cria o map de descrições\n",
    "desc_map = df_dictionary.set_index('course_area_id')['course_area_description']\n",
    "\n",
    "#Lista das 4 colunas de área\n",
    "area_cols = [\n",
    "    'D9_3_1_college_area',\n",
    "    'D9_3_2_master_area',\n",
    "    'D9_3_3_doctorate_area',\n",
    "    'D9_3_4_postdoc_area'\n",
    "]\n",
    "\n",
    "#Insere só a descrição em ordem reversa\n",
    "for col in reversed(area_cols):\n",
    "    pos = df_combined.columns.get_loc(col)\n",
    "    df_combined.insert(\n",
    "        loc    = pos + 1,\n",
    "        column = f'{col}_description',\n",
    "        value  = df_combined[col].map(desc_map)\n",
    "    )\n",
    "\n",
    "#Verifica\n",
    "df_combined.head()"
   ]
  },
  {
   "cell_type": "markdown",
   "id": "85c4e275",
   "metadata": {},
   "source": [
    "### Exportar dataset mesclado"
   ]
  },
  {
   "cell_type": "code",
   "execution_count": null,
   "id": "1d1964f4",
   "metadata": {},
   "outputs": [],
   "source": [
    "# Exportar o DataFrame combinado para um arquivo CSV\n",
    "df_combined.to_csv('../Data/Normalization/Course/data_course_normalized.csv', sep=';', encoding='utf-8-sig')"
   ]
  }
 ],
 "metadata": {
  "kernelspec": {
   "display_name": "base",
   "language": "python",
   "name": "python3"
  },
  "language_info": {
   "codemirror_mode": {
    "name": "ipython",
    "version": 3
   },
   "file_extension": ".py",
   "mimetype": "text/x-python",
   "name": "python",
   "nbconvert_exporter": "python",
   "pygments_lexer": "ipython3",
   "version": "3.11.7"
  }
 },
 "nbformat": 4,
 "nbformat_minor": 5
}
