{
 "cells": [
  {
   "cell_type": "markdown",
   "id": "d22481da-44c2-4e51-a32f-a0c2d711c053",
   "metadata": {},
   "source": [
    "# Análise exploratória"
   ]
  },
  {
   "cell_type": "markdown",
   "id": "370ec855-083f-4859-bf92-513517deb207",
   "metadata": {
    "jp-MarkdownHeadingCollapsed": true
   },
   "source": [
    "## Obtenção e carregamento de dados  "
   ]
  },
  {
   "cell_type": "code",
   "execution_count": null,
   "id": "fe43db2f-1929-4b0b-8a5c-23317b96f039",
   "metadata": {},
   "outputs": [],
   "source": [
    "#importação de bibliotecas\n",
    "import pandas as pd"
   ]
  },
  {
   "cell_type": "code",
   "execution_count": null,
   "id": "239aa350-f99e-4d67-8a1e-e7ca5edc018e",
   "metadata": {},
   "outputs": [],
   "source": [
    "# Importação dos dados\n",
    "df_dataset_cleaned = pd.read_csv('../Data/data_cleaned.csv', sep=';', encoding='utf-8-sig')\n",
    "\n",
    "# Carregar dicionário de dados\n",
    "df_dictionary = pd.read_csv(\"../Data/dictionary.csv\", encoding=\"ISO-8859-1\", sep=\";\", on_bad_lines='skip')"
   ]
  },
  {
   "cell_type": "markdown",
   "id": "fee30b6c",
   "metadata": {},
   "source": [
    "## Informações sobre o dataset"
   ]
  },
  {
   "cell_type": "code",
   "execution_count": null,
   "id": "14528b43",
   "metadata": {},
   "outputs": [],
   "source": [
    "#Exibir informações sobre o dataframe\n",
    "df_dataset_cleaned.info()\n",
    "\n",
    "#Exibir as primeiras linhas do dataframe\n",
    "df_dataset_cleaned.describe()"
   ]
  },
  {
   "cell_type": "markdown",
   "id": "85d97261",
   "metadata": {},
   "source": [
    "## Visualização inicial dos dados"
   ]
  },
  {
   "cell_type": "code",
   "execution_count": null,
   "id": "59372e48",
   "metadata": {},
   "outputs": [],
   "source": [
    "#Exibir as primeiras linhas do dataframe\n",
    "df_dataset_cleaned.head()"
   ]
  },
  {
   "cell_type": "markdown",
   "id": "c370d7c0",
   "metadata": {},
   "source": [
    "## Definição de índices"
   ]
  },
  {
   "cell_type": "code",
   "execution_count": null,
   "id": "cf1a0d52",
   "metadata": {},
   "outputs": [],
   "source": [
    "# Colocar a coluna 'survey_Id' na primeira posição\n",
    "df_dataset_cleaned = df_dataset_cleaned[['survey_Id'] + [col for col in df_dataset_cleaned.columns if col != 'survey_Id']]\n",
    "\n",
    "# Definir o índice do dataframe como a coluna 'survey_Id'\n",
    "df_dataset_cleaned.set_index('survey_Id', inplace=True)\n",
    "\n",
    "# Exibir as primeiras linhas do dataframe\n",
    "df_dataset_cleaned.head()"
   ]
  },
  {
   "cell_type": "markdown",
   "id": "f9485bb1",
   "metadata": {},
   "source": [
    "## Conversão de tipos"
   ]
  },
  {
   "cell_type": "code",
   "execution_count": null,
   "id": "f8e6a123",
   "metadata": {},
   "outputs": [],
   "source": [
    "# Criar dicionário de tipos com base no dicionário de dados\n",
    "tipos_pandas = {}\n",
    "\n",
    "# Mapear os tipos com base na coluna Type do dicionário\n",
    "for _, row in df_dictionary.iterrows():\n",
    "    var = row[\"Variable\"]\n",
    "    tipo = str(row[\"Type\"]).strip().lower()\n",
    "\n",
    "    if pd.isna(var) or var == \"\" or var not in df_dataset_cleaned.columns:\n",
    "        continue  # Ignorar se não estiver no dataset\n",
    "\n",
    "    if tipo in [\"texto\", \"texto numérico\"]:\n",
    "        tipos_pandas[var] = \"object\"\n",
    "    else:\n",
    "        tipos_pandas[var] = \"Int64\"\n",
    "\n",
    "# Tentar aplicar os tipos com segurança\n",
    "df = df_dataset_cleaned.copy()\n",
    "\n",
    "for coluna, tipo in tipos_pandas.items():\n",
    "    try:\n",
    "       df[coluna] =df[coluna].astype(tipo)\n",
    "    except Exception as e:\n",
    "        print(f\"⚠️ Falha ao converter '{coluna}' para {tipo}: {e}\")\n",
    "\n",
    "# Verificar se há colunas com tipo 'int64' que podem ser convertidas para 'Int64'\n",
    "colunas_int64 = df.select_dtypes(include=\"int64\").columns.tolist()\n",
    "\n",
    "# Converter colunas 'int64' para 'Int64' (nullable integer type)\n",
    "df[colunas_int64] = df[colunas_int64].astype(\"Int64\")\n",
    "\n",
    "# Exibir as primeiras linhas do dataframe\n",
    "df.head()"
   ]
  }
 ],
 "metadata": {
  "kernelspec": {
   "display_name": "base",
   "language": "python",
   "name": "python3"
  },
  "language_info": {
   "codemirror_mode": {
    "name": "ipython",
    "version": 3
   },
   "file_extension": ".py",
   "mimetype": "text/x-python",
   "name": "python",
   "nbconvert_exporter": "python",
   "pygments_lexer": "ipython3",
   "version": "3.11.7"
  }
 },
 "nbformat": 4,
 "nbformat_minor": 5
}
