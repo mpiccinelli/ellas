{
 "cells": [
  {
   "cell_type": "markdown",
   "id": "d22481da-44c2-4e51-a32f-a0c2d711c053",
   "metadata": {},
   "source": [
    "# Análise exploratória"
   ]
  },
  {
   "cell_type": "markdown",
   "id": "370ec855-083f-4859-bf92-513517deb207",
   "metadata": {
    "jp-MarkdownHeadingCollapsed": true
   },
   "source": [
    "## Obtenção e carregamento de dados  "
   ]
  },
  {
   "cell_type": "code",
   "execution_count": 5,
   "id": "fe43db2f-1929-4b0b-8a5c-23317b96f039",
   "metadata": {},
   "outputs": [],
   "source": [
    "#importação de bibliotecas\n",
    "import pandas as pd"
   ]
  },
  {
   "cell_type": "code",
   "execution_count": 6,
   "id": "239aa350-f99e-4d67-8a1e-e7ca5edc018e",
   "metadata": {},
   "outputs": [],
   "source": [
    "# Importação dos dados\n",
    "df = pd.read_csv('../Data/data_cleaned.csv', sep=';', encoding='UTF-8')"
   ]
  },
  {
   "cell_type": "markdown",
   "id": "fee30b6c",
   "metadata": {},
   "source": [
    "## Informações sobre o dataset"
   ]
  },
  {
   "cell_type": "code",
   "execution_count": null,
   "id": "14528b43",
   "metadata": {},
   "outputs": [],
   "source": [
    "#Exibir informações sobre o dataframe\n",
    "df.info()\n",
    "\n",
    "#Exibir as primeiras linhas do dataframe\n",
    "df.describe()"
   ]
  },
  {
   "cell_type": "markdown",
   "id": "85d97261",
   "metadata": {},
   "source": [
    "## Visualização dos dados"
   ]
  },
  {
   "cell_type": "code",
   "execution_count": null,
   "id": "59372e48",
   "metadata": {},
   "outputs": [],
   "source": [
    "#Exibir as primeiras linhas do dataframe\n",
    "df.head()"
   ]
  }
 ],
 "metadata": {
  "kernelspec": {
   "display_name": "base",
   "language": "python",
   "name": "python3"
  },
  "language_info": {
   "codemirror_mode": {
    "name": "ipython",
    "version": 3
   },
   "file_extension": ".py",
   "mimetype": "text/x-python",
   "name": "python",
   "nbconvert_exporter": "python",
   "pygments_lexer": "ipython3",
   "version": "3.11.7"
  }
 },
 "nbformat": 4,
 "nbformat_minor": 5
}
