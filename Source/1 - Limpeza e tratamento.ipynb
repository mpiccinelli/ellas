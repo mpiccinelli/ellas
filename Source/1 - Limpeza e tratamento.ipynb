{
 "cells": [
  {
   "cell_type": "markdown",
   "id": "d22481da-44c2-4e51-a32f-a0c2d711c053",
   "metadata": {},
   "source": [
    "# Resultados da Survey"
   ]
  },
  {
   "cell_type": "markdown",
   "id": "370ec855-083f-4859-bf92-513517deb207",
   "metadata": {
    "jp-MarkdownHeadingCollapsed": true
   },
   "source": [
    "## Obtenção e carregamento de dados  "
   ]
  },
  {
   "cell_type": "code",
   "execution_count": null,
   "id": "fe43db2f-1929-4b0b-8a5c-23317b96f039",
   "metadata": {},
   "outputs": [],
   "source": [
    "#importação de bibliotecas\n",
    "import pandas as pd"
   ]
  },
  {
   "cell_type": "code",
   "execution_count": null,
   "id": "239aa350-f99e-4d67-8a1e-e7ca5edc018e",
   "metadata": {},
   "outputs": [],
   "source": [
    "# Carregar os dados principais\n",
    "df_dataset = pd.read_csv(\"../Data/dataset.csv\", encoding=\"utf-8\", sep=\";\", on_bad_lines='skip')\n",
    "\n",
    "# Carregar o mapeamento de harmonização\n",
    "df_harmonization_ethinic = pd.read_csv(\"../Data/harmonization_ethnic_data.csv\", encoding=\"utf-8\", sep=\";\", on_bad_lines='skip')"
   ]
  },
  {
   "cell_type": "markdown",
   "id": "85d97261",
   "metadata": {},
   "source": [
    "## Visualização dos dados"
   ]
  },
  {
   "cell_type": "markdown",
   "id": "ad494997",
   "metadata": {},
   "source": [
    "### Visualização do dataframe principal"
   ]
  },
  {
   "cell_type": "code",
   "execution_count": null,
   "id": "59372e48",
   "metadata": {},
   "outputs": [],
   "source": [
    "#Exibir as primeiras linhas do dataframe\n",
    "df_dataset.head()"
   ]
  },
  {
   "cell_type": "markdown",
   "id": "987e0ef5",
   "metadata": {},
   "source": [
    "### Visualização do dataframe de dados étnicos"
   ]
  },
  {
   "cell_type": "code",
   "execution_count": null,
   "id": "c787d257",
   "metadata": {},
   "outputs": [],
   "source": [
    "#Exibir as primeiras linhas do dataframe\n",
    "df_harmonization_ethinic.head()"
   ]
  },
  {
   "cell_type": "markdown",
   "id": "ed2c2e5e",
   "metadata": {},
   "source": [
    "## Limpeza e Tratatamento de Dados"
   ]
  },
  {
   "cell_type": "markdown",
   "id": "82f1af52",
   "metadata": {},
   "source": [
    "### Harmonização de dados étnicos"
   ]
  },
  {
   "cell_type": "code",
   "execution_count": null,
   "id": "60915291",
   "metadata": {},
   "outputs": [],
   "source": [
    "# Função de harmonização com base na prioridade Bolívia > Peru > Brasil\n",
    "def harmonizar_etnia(row):\n",
    "    for col in [\"D4_ethnic_group_bol\", \"D4_ethnic_group_per\", \"D4_ethnic_group_bra\"]:\n",
    "        valor = df_dataset.at[row.name, col]\n",
    "        if pd.notna(valor) and valor != \"\":\n",
    "            for origem in [\"Brasil\", \"Peru\", \"Bolívia\"]:\n",
    "                match = df_harmonization_ethinic[df_harmonization_ethinic[origem] == valor]\n",
    "                if not match.empty:\n",
    "                    return match[\"Valor Usado\"].values[0]\n",
    "            return \"Otro\"\n",
    "    return \"Otro\"\n",
    "\n",
    "# Criar uma cópia do dataframe original para evitar alterações diretas\n",
    "df_temp = df_dataset.copy()\n",
    "\n",
    "# Gerar a coluna harmonizada\n",
    "coluna_etnia_harmonizada = df_dataset.apply(harmonizar_etnia, axis=1)\n",
    "\n",
    "# Inserir a coluna no local correto (antes da D4_ethnic_group_bol)\n",
    "if \"D4_ethnic_group_bol\" in df_temp.columns:\n",
    "    idx = df_temp.columns.get_loc(\"D4_ethnic_group_bol\")\n",
    "    # Inserir diretamente no ponto certo\n",
    "    df_temp.insert(loc=idx, column=\"D4_ethnic_group\", value=coluna_etnia_harmonizada)\n",
    "else:\n",
    "    # Caso não exista, adiciona normalmente ao final\n",
    "    df_temp[\"D4_ethnic_group\"] = coluna_etnia_harmonizada\n",
    "\n",
    "# Remover as colunas de origem\n",
    "df_temp.drop(columns=[col for col in [\"D4_ethnic_group_bol\", \"D4_ethnic_group_per\", \"D4_ethnic_group_bra\"] if col in df_temp.columns], inplace=True)\n",
    "\n",
    "# Visualizar resultado\n",
    "df_temp.head()\n"
   ]
  },
  {
   "cell_type": "markdown",
   "id": "74b40e15",
   "metadata": {},
   "source": [
    "### Harmonização de estados"
   ]
  },
  {
   "cell_type": "code",
   "execution_count": null,
   "id": "37f0da16",
   "metadata": {},
   "outputs": [],
   "source": [
    "# Criar a nova coluna D5_state com base nas colunas do df_dataset\n",
    "coluna_estado_harmonizada = df_dataset[\"D5_state_bol\"]\n",
    "coluna_estado_harmonizada = coluna_estado_harmonizada.fillna(df_dataset[\"D5_state_per\"])\n",
    "coluna_estado_harmonizada = coluna_estado_harmonizada.fillna(df_dataset[\"D5_state_bra\"])\n",
    "\n",
    "# Inserir a nova coluna D5_state antes da D5_state_bol (se ela existir no df_temp)\n",
    "if \"D5_state_bol\" in df_temp.columns:\n",
    "    idx = df_temp.columns.get_loc(\"D5_state_bol\")\n",
    "    df_temp.insert(loc=idx, column=\"D5_state\", value=coluna_estado_harmonizada)\n",
    "else:\n",
    "    df_temp[\"D5_state\"] = coluna_estado_harmonizada\n",
    "\n",
    "# Remover colunas originais de estado (se ainda estiverem no df_temp)\n",
    "df_temp.drop(columns=[col for col in [\"D5_state_bol\", \"D5_state_per\", \"D5_state_bra\"] if col in df_temp.columns], inplace=True)\n",
    "\n",
    "# Visualização opcional\n",
    "df_temp.head()\n"
   ]
  },
  {
   "cell_type": "markdown",
   "id": "5d2b9cb3",
   "metadata": {},
   "source": [
    "### Harmonização de cidades"
   ]
  },
  {
   "cell_type": "code",
   "execution_count": null,
   "id": "4438ed07",
   "metadata": {},
   "outputs": [],
   "source": [
    "# Criar a nova coluna D6_county com base nas colunas do df_dataset\n",
    "coluna_cidade_harmonizada = df_dataset[\"D6_county_bol\"]\n",
    "coluna_cidade_harmonizada = coluna_cidade_harmonizada.fillna(df_dataset[\"D6_county_per\"])\n",
    "coluna_cidade_harmonizada = coluna_cidade_harmonizada.fillna(df_dataset[\"D6_county_bra\"])\n",
    "\n",
    "# Inserir a nova coluna D6_county antes da D6_county_bol (se ela existir no df_temp)\n",
    "if \"D6_county_bol\" in df_temp.columns:\n",
    "    idx = df_temp.columns.get_loc(\"D6_county_bol\")\n",
    "    df_temp.insert(loc=idx, column=\"D6_county\", value=coluna_cidade_harmonizada)\n",
    "else:\n",
    "    df_temp[\"D6_county\"] = coluna_cidade_harmonizada\n",
    "\n",
    "# Remover colunas originais de cidade (se ainda estiverem no df_temp)\n",
    "df_temp.drop(columns=[col for col in [\"D6_county_bol\", \"D6_county_per\", \"D6_county_bra\"] if col in df_temp.columns], inplace=True)\n",
    "\n",
    "# Visualização opcional\n",
    "df_temp.head()\n"
   ]
  },
  {
   "cell_type": "markdown",
   "id": "26262551",
   "metadata": {},
   "source": [
    "## Verificação e Exportação de Dados"
   ]
  },
  {
   "cell_type": "markdown",
   "id": "9b48d2ce",
   "metadata": {},
   "source": [
    "### Verificação"
   ]
  },
  {
   "cell_type": "code",
   "execution_count": null,
   "id": "5a601d2c",
   "metadata": {},
   "outputs": [],
   "source": [
    "#Exibir informações sobre o dataframe\n",
    "df_temp.info()\n",
    "\n",
    "#Exibir estatísticas descritivas do dataframe\n",
    "df_temp.describe()\n"
   ]
  },
  {
   "cell_type": "markdown",
   "id": "65bac650",
   "metadata": {},
   "source": [
    "### Visualização final"
   ]
  },
  {
   "cell_type": "code",
   "execution_count": null,
   "id": "3ccfd471",
   "metadata": {},
   "outputs": [],
   "source": [
    "#Exibir as primeiras linhas do dataframe\n",
    "df_temp.head()"
   ]
  },
  {
   "cell_type": "markdown",
   "id": "a5901ce3",
   "metadata": {},
   "source": [
    "### Exportação"
   ]
  },
  {
   "cell_type": "code",
   "execution_count": null,
   "id": "b40a3cf7",
   "metadata": {},
   "outputs": [],
   "source": [
    "### Exporta o dataframe para um arquivo CSV\n",
    "df_temp.to_csv('../Data/data_cleaned.csv', sep=';', encoding='utf-8-sig', index=False)"
   ]
  }
 ],
 "metadata": {
  "kernelspec": {
   "display_name": "base",
   "language": "python",
   "name": "python3"
  },
  "language_info": {
   "codemirror_mode": {
    "name": "ipython",
    "version": 3
   },
   "file_extension": ".py",
   "mimetype": "text/x-python",
   "name": "python",
   "nbconvert_exporter": "python",
   "pygments_lexer": "ipython3",
   "version": "3.11.7"
  }
 },
 "nbformat": 4,
 "nbformat_minor": 5
}
