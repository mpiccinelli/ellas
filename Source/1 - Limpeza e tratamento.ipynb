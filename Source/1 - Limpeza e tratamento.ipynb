{
 "cells": [
  {
   "cell_type": "markdown",
   "id": "d22481da-44c2-4e51-a32f-a0c2d711c053",
   "metadata": {},
   "source": [
    "# Resultados da Survey"
   ]
  },
  {
   "cell_type": "markdown",
   "id": "370ec855-083f-4859-bf92-513517deb207",
   "metadata": {
    "jp-MarkdownHeadingCollapsed": true
   },
   "source": [
    "## Obtenção e carregamento de dados  "
   ]
  },
  {
   "cell_type": "code",
   "execution_count": 95,
   "id": "fe43db2f-1929-4b0b-8a5c-23317b96f039",
   "metadata": {},
   "outputs": [],
   "source": [
    "#importação de bibliotecas\n",
    "import pandas as pd"
   ]
  },
  {
   "cell_type": "code",
   "execution_count": 96,
   "id": "239aa350-f99e-4d67-8a1e-e7ca5edc018e",
   "metadata": {},
   "outputs": [],
   "source": [
    "# Importação dos dados\n",
    "df = pd.read_csv('../Data/survey.csv', sep=';', encoding='UTF-8')"
   ]
  },
  {
   "cell_type": "markdown",
   "id": "fee30b6c",
   "metadata": {},
   "source": [
    "## Informações sobre o dataset"
   ]
  },
  {
   "cell_type": "code",
   "execution_count": null,
   "id": "14528b43",
   "metadata": {},
   "outputs": [],
   "source": [
    "#Exibir informações sobre o dataframe\n",
    "df.info()\n",
    "\n",
    "#Exibir as primeiras linhas do dataframe\n",
    "df.describe()"
   ]
  },
  {
   "cell_type": "markdown",
   "id": "85d97261",
   "metadata": {},
   "source": [
    "## Visualização dos dados"
   ]
  },
  {
   "cell_type": "code",
   "execution_count": null,
   "id": "59372e48",
   "metadata": {},
   "outputs": [],
   "source": [
    "#Exibir as primeiras linhas do dataframe\n",
    "df.head()"
   ]
  },
  {
   "cell_type": "markdown",
   "id": "ed2c2e5e",
   "metadata": {},
   "source": [
    "## Limpeza e Tratatamento de Dados"
   ]
  },
  {
   "cell_type": "markdown",
   "id": "34536fa3",
   "metadata": {},
   "source": [
    "### Índice"
   ]
  },
  {
   "cell_type": "code",
   "execution_count": null,
   "id": "cd38cacc",
   "metadata": {},
   "outputs": [],
   "source": [
    "#Definir a coluna 'survey_id' como índice\n",
    "df.set_index('survey_id', inplace=True)\n",
    "\n",
    "#Exibir as primeiras linhas do dataframe\n",
    "df.head()"
   ]
  },
  {
   "cell_type": "markdown",
   "id": "390bd341",
   "metadata": {},
   "source": [
    "### Valores ausentes ou nulos"
   ]
  },
  {
   "cell_type": "code",
   "execution_count": 103,
   "id": "61b83486",
   "metadata": {},
   "outputs": [],
   "source": [
    "#Tratar valores faltantes"
   ]
  },
  {
   "cell_type": "markdown",
   "id": "26262551",
   "metadata": {},
   "source": [
    "## Verificação e Exportação de Dados"
   ]
  },
  {
   "cell_type": "markdown",
   "id": "9b48d2ce",
   "metadata": {},
   "source": [
    "### Verificação"
   ]
  },
  {
   "cell_type": "code",
   "execution_count": null,
   "id": "5a601d2c",
   "metadata": {},
   "outputs": [],
   "source": [
    "#Exibir informações sobre o dataframe\n",
    "df.info()\n",
    "\n",
    "#Exibir estatísticas descritivas do dataframe\n",
    "df.describe()\n"
   ]
  },
  {
   "cell_type": "markdown",
   "id": "65bac650",
   "metadata": {},
   "source": [
    "### Visualização final"
   ]
  },
  {
   "cell_type": "code",
   "execution_count": null,
   "id": "3ccfd471",
   "metadata": {},
   "outputs": [],
   "source": [
    "#Exibir as primeiras linhas do dataframe\n",
    "df.head()"
   ]
  },
  {
   "cell_type": "markdown",
   "id": "a5901ce3",
   "metadata": {},
   "source": [
    "### Exportação"
   ]
  },
  {
   "cell_type": "code",
   "execution_count": 102,
   "id": "b40a3cf7",
   "metadata": {},
   "outputs": [],
   "source": [
    "### Exporta o dataframe para um arquivo CSV\n",
    "df.to_csv('../Data/data_cleaned.csv', sep=';', encoding='UTF-8')"
   ]
  }
 ],
 "metadata": {
  "kernelspec": {
   "display_name": "base",
   "language": "python",
   "name": "python3"
  },
  "language_info": {
   "codemirror_mode": {
    "name": "ipython",
    "version": 3
   },
   "file_extension": ".py",
   "mimetype": "text/x-python",
   "name": "python",
   "nbconvert_exporter": "python",
   "pygments_lexer": "ipython3",
   "version": "3.11.7"
  }
 },
 "nbformat": 4,
 "nbformat_minor": 5
}
