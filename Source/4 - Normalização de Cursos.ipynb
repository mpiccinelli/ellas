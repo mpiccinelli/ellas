{
 "cells": [
  {
   "cell_type": "markdown",
   "id": "d22481da-44c2-4e51-a32f-a0c2d711c053",
   "metadata": {},
   "source": [
    "# Normalização de Cursos"
   ]
  },
  {
   "cell_type": "markdown",
   "id": "892b5f63",
   "metadata": {},
   "source": [
    "## Carregamento e preparação dos dados"
   ]
  },
  {
   "cell_type": "markdown",
   "id": "370ec855-083f-4859-bf92-513517deb207",
   "metadata": {
    "jp-MarkdownHeadingCollapsed": true
   },
   "source": [
    "### Obtenção e carregamento de dados  "
   ]
  },
  {
   "cell_type": "code",
   "execution_count": null,
   "id": "fe43db2f-1929-4b0b-8a5c-23317b96f039",
   "metadata": {},
   "outputs": [],
   "source": [
    "#importação de bibliotecas\n",
    "import pandas as pd"
   ]
  },
  {
   "cell_type": "code",
   "execution_count": null,
   "id": "239aa350-f99e-4d67-8a1e-e7ca5edc018e",
   "metadata": {},
   "outputs": [],
   "source": [
    "# Importação dos dados\n",
    "df_dataset_cleaned = pd.read_csv('../Data/Normalization/data_cleaned.csv', sep=';', encoding='utf-8-sig')\n",
    "\n",
    "# Carregar dicionário de dados\n",
    "df_dictionary = pd.read_csv(\"../Data/Original/dictionary.csv\", encoding=\"ISO-8859-1\", sep=\";\", on_bad_lines='skip')"
   ]
  },
  {
   "cell_type": "markdown",
   "id": "fee30b6c",
   "metadata": {},
   "source": [
    "### Informações sobre o dataset"
   ]
  },
  {
   "cell_type": "code",
   "execution_count": null,
   "id": "14528b43",
   "metadata": {},
   "outputs": [],
   "source": [
    "#Exibir informações sobre o dataframe\n",
    "df_dataset_cleaned.info()\n",
    "\n",
    "#Exibir as primeiras linhas do dataframe\n",
    "df_dataset_cleaned.describe()"
   ]
  },
  {
   "cell_type": "markdown",
   "id": "85d97261",
   "metadata": {},
   "source": [
    "### Visualização inicial dos dados"
   ]
  },
  {
   "cell_type": "code",
   "execution_count": null,
   "id": "59372e48",
   "metadata": {},
   "outputs": [],
   "source": [
    "#Exibir as primeiras linhas do dataframe\n",
    "df_dataset_cleaned.head()"
   ]
  },
  {
   "cell_type": "markdown",
   "id": "c370d7c0",
   "metadata": {},
   "source": [
    "### Definição de índices"
   ]
  },
  {
   "cell_type": "code",
   "execution_count": null,
   "id": "cf1a0d52",
   "metadata": {},
   "outputs": [],
   "source": [
    "# Colocar a coluna 'survey_Id' na primeira posição\n",
    "df_dataset_cleaned = df_dataset_cleaned[['survey_Id'] + [col for col in df_dataset_cleaned.columns if col != 'survey_Id']]\n",
    "\n",
    "# Definir o índice do dataframe como a coluna 'survey_Id'\n",
    "df_dataset_cleaned.set_index('survey_Id', inplace=True)\n",
    "\n",
    "# Exibir as primeiras linhas do dataframe\n",
    "df_dataset_cleaned.head()"
   ]
  },
  {
   "cell_type": "markdown",
   "id": "250f2fe2",
   "metadata": {},
   "source": [
    "## Análise da distribuição dos cursos"
   ]
  },
  {
   "cell_type": "code",
   "execution_count": null,
   "id": "86f97be1",
   "metadata": {},
   "outputs": [],
   "source": [
    "# Cria um novo dataframe somente com as colunas Country, survey_Id e D3_course\n",
    "df_course = df_dataset_cleaned[['Country', 'D9_3_1_O_college_area_other','D9_3_2_O_master_area_other', 'D9_3_3_O_doctorate_area_other', 'D9_3_4_O_postdoc_area_other']] \n",
    "\n",
    "# Exibe as primeiras linhas do dataframe\n",
    "df_course.head()\n"
   ]
  },
  {
   "cell_type": "markdown",
   "id": "af4630f6",
   "metadata": {},
   "source": [
    "### Exportar os dados para um arquivo CSV"
   ]
  },
  {
   "cell_type": "code",
   "execution_count": null,
   "id": "1d846d3e",
   "metadata": {},
   "outputs": [],
   "source": [
    "# Exportar os dados do novo dataframe para um arquivo CSV\n",
    "df_course.to_csv('../Data/Normalization/Course/normalization_course_base.csv', sep=';', encoding='utf-8-sig')"
   ]
  }
 ],
 "metadata": {
  "kernelspec": {
   "display_name": "base",
   "language": "python",
   "name": "python3"
  },
  "language_info": {
   "codemirror_mode": {
    "name": "ipython",
    "version": 3
   },
   "file_extension": ".py",
   "mimetype": "text/x-python",
   "name": "python",
   "nbconvert_exporter": "python",
   "pygments_lexer": "ipython3",
   "version": "3.11.7"
  }
 },
 "nbformat": 4,
 "nbformat_minor": 5
}
