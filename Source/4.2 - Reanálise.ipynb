{
 "cells": [
  {
   "cell_type": "markdown",
   "id": "d22481da-44c2-4e51-a32f-a0c2d711c053",
   "metadata": {},
   "source": [
    "# Análise exploratória"
   ]
  },
  {
   "cell_type": "markdown",
   "id": "892b5f63",
   "metadata": {},
   "source": [
    "## Carregamento e preparação dos dados"
   ]
  },
  {
   "cell_type": "markdown",
   "id": "370ec855-083f-4859-bf92-513517deb207",
   "metadata": {
    "jp-MarkdownHeadingCollapsed": true
   },
   "source": [
    "### Obtenção e carregamento de dados  "
   ]
  },
  {
   "cell_type": "code",
   "execution_count": null,
   "id": "fe43db2f-1929-4b0b-8a5c-23317b96f039",
   "metadata": {},
   "outputs": [],
   "source": [
    "#importação de bibliotecas\n",
    "import pandas as pd\n",
    "\n",
    "import seaborn as sns\n",
    "import matplotlib.pyplot as plt\n"
   ]
  },
  {
   "cell_type": "code",
   "execution_count": null,
   "id": "239aa350-f99e-4d67-8a1e-e7ca5edc018e",
   "metadata": {},
   "outputs": [],
   "source": [
    "# Importação dos dados\n",
    "df_dataset = pd.read_csv('../Data/Normalization/Course/data_course_normalized.csv', sep=';', encoding='utf-8-sig')\n",
    "\n",
    "# Carregar dicionário de dados\n",
    "df_dictionary = pd.read_csv(\"../Data/Original/dictionary.csv\", encoding=\"ISO-8859-1\", sep=\";\", on_bad_lines='skip')"
   ]
  },
  {
   "cell_type": "markdown",
   "id": "fee30b6c",
   "metadata": {},
   "source": [
    "### Informações sobre o dataset"
   ]
  },
  {
   "cell_type": "code",
   "execution_count": null,
   "id": "14528b43",
   "metadata": {},
   "outputs": [],
   "source": [
    "#Exibir informações sobre o dataframe\n",
    "df_dataset.info()\n",
    "\n",
    "#Exibir as primeiras linhas do dataframe\n",
    "df_dataset.describe()"
   ]
  },
  {
   "cell_type": "markdown",
   "id": "85d97261",
   "metadata": {},
   "source": [
    "### Visualização inicial dos dados"
   ]
  },
  {
   "cell_type": "code",
   "execution_count": null,
   "id": "59372e48",
   "metadata": {},
   "outputs": [],
   "source": [
    "#Exibir as primeiras linhas do dataframe\n",
    "df_dataset.head()"
   ]
  },
  {
   "cell_type": "markdown",
   "id": "c370d7c0",
   "metadata": {},
   "source": [
    "### Definição de índices"
   ]
  },
  {
   "cell_type": "code",
   "execution_count": null,
   "id": "cf1a0d52",
   "metadata": {},
   "outputs": [],
   "source": [
    "# Colocar a coluna 'survey_Id' na primeira posição\n",
    "df_dataset = df_dataset[['survey_Id'] + [col for col in df_dataset.columns if col != 'survey_Id']]\n",
    "\n",
    "# Definir o índice do dataframe como a coluna 'survey_Id'\n",
    "df_dataset.set_index('survey_Id', inplace=True)\n",
    "\n",
    "# Exibir as primeiras linhas do dataframe\n",
    "df_dataset.head()"
   ]
  },
  {
   "cell_type": "markdown",
   "id": "250f2fe2",
   "metadata": {},
   "source": [
    "## Análise de variáveis do tipo texto"
   ]
  },
  {
   "cell_type": "code",
   "execution_count": null,
   "id": "86f97be1",
   "metadata": {},
   "outputs": [],
   "source": [
    "# Mapeamentos\n",
    "mapa_perguntas = dict(zip(df_dictionary[\"Variable\"], df_dictionary[\"Question\"]))\n",
    "mapa_areas     = dict(zip(df_dictionary[\"Variable\"], df_dictionary[\"Details\"]))\n",
    "\n",
    "# Estilo Seaborn sem grid\n",
    "sns.set_theme(style=\"white\")\n",
    "\n",
    "# Parâmetros de controle\n",
    "LIMITE_CATEGORIAS_VERTICAIS = 10   # a partir de quantas categorias usar horizontal\n",
    "TOP_N                       = 30   # máximo de categorias a exibir\n",
    "LIMITE_ALTURA               = 0.4  # polegadas por categoria\n",
    "ALTURA_MAXIMA               = 30   # altura máxima em polegadas\n",
    "\n",
    "# Seleciona somente as colunas\n",
    "text_columns = df_dataset[['D9_3_1_college_area_description','D9_3_2_master_area_description','D9_3_3_doctorate_area_description','D9_3_4_postdoc_area_description']]\n",
    "\n",
    "for col in text_columns:\n",
    "    # ——> Remove NaN antes de contar\n",
    "    serie = df_dataset[col].dropna()\n",
    "\n",
    "    # ——> Atribui o valor NA para valores NaN \n",
    "    #serie = df_dataset[col].fillna(\"NA\").astype(str)\n",
    "\n",
    "    # cálculo de Frecuencia e percentual (sem NaN)\n",
    "    freq = serie.value_counts()\n",
    "    pct  = serie.value_counts(normalize=True) * 100\n",
    "\n",
    "    freq_df = pd.DataFrame({\n",
    "        \"Valor\":          freq.index.astype(str),\n",
    "        \"Frecuencia\":     freq.values,\n",
    "        \"Porcentaje (%)\": pct.values\n",
    "    })\n",
    "\n",
    "    # verifica truncamento\n",
    "    truncado = False\n",
    "    if len(freq_df) > TOP_N:\n",
    "        freq_df = freq_df.head(TOP_N)\n",
    "        truncado = True\n",
    "\n",
    "    # títulos\n",
    "    titulo    = col\n",
    "    subtitulo = mapa_perguntas.get(col, \"\")\n",
    "    area      = mapa_areas.get(col, \"\")\n",
    "\n",
    "    # cálculo de altura (limitada)\n",
    "    altura = min(LIMITE_ALTURA * len(freq_df) + 3, ALTURA_MAXIMA)\n",
    "    fig, ax = plt.subplots(figsize=(12, altura))\n",
    "    fig.subplots_adjust(left=0.5, right=0.95)\n",
    "\n",
    "    # lógica de orientação\n",
    "    if len(freq_df) > LIMITE_CATEGORIAS_VERTICAIS:\n",
    "        # barras horizontais\n",
    "        sns.barplot(\n",
    "            y=\"Valor\", x=\"Frecuencia\", data=freq_df,\n",
    "            ax=ax, color=\"skyblue\", order=freq_df[\"Valor\"]\n",
    "        )\n",
    "    else:\n",
    "        # barras verticais\n",
    "        sns.barplot(\n",
    "            x=\"Valor\", y=\"Frecuencia\", data=freq_df,\n",
    "            ax=ax, color=\"skyblue\", order=freq_df[\"Valor\"]\n",
    "        )\n",
    "        ax.set_xticklabels(ax.get_xticklabels(), rotation=45, ha=\"right\")\n",
    "\n",
    "    # remove bordas\n",
    "    sns.despine(ax=ax, left=False, bottom=False)\n",
    "\n",
    "    # adiciona labels\n",
    "    maxf = freq_df[\"Frecuencia\"].max()\n",
    "    if len(freq_df) > LIMITE_CATEGORIAS_VERTICAIS:\n",
    "        for i, row in freq_df.iterrows():\n",
    "            ax.text(\n",
    "                row[\"Frecuencia\"] + maxf * 0.01, i,\n",
    "                f\"{row['Frecuencia']} ({row['Porcentaje (%)']:.1f}%)\",\n",
    "                va='center', fontsize=9\n",
    "            )\n",
    "    else:\n",
    "        for i, row in freq_df.iterrows():\n",
    "            ax.text(\n",
    "                i, row[\"Frecuencia\"] + maxf * 0.01,\n",
    "                f\"{row['Frecuencia']} ({row['Porcentaje (%)']:.1f}%)\",\n",
    "                ha='center', fontsize=9\n",
    "            )\n",
    "\n",
    "    # título multilinha\n",
    "    main_title = f\"Variable: {titulo}\"\n",
    "    if truncado:\n",
    "        main_title += f\" (Top {TOP_N})\"\n",
    "    if area:\n",
    "        main_title += f\"\\nÁrea: {area}\"\n",
    "    ax.set_title(main_title, fontsize=11, loc='left')\n",
    "\n",
    "    # subtítulo\n",
    "    if subtitulo:\n",
    "        plt.suptitle(subtitulo, fontsize=12, y=0.96, style='italic', weight='bold')\n",
    "\n",
    "    ax.set_xlabel(\"Frecuencia\")\n",
    "    ax.set_ylabel(\"Categoría\")\n",
    "\n",
    "    # margens e padding\n",
    "    fig.subplots_adjust(left=0.20, right=0.95, top=0.88, bottom=0.10)\n",
    "    plt.tight_layout(pad=2.0)\n",
    "\n",
    "    # salva\n",
    "    file_name = f\"{col}.jpg\".replace(\"/\", \"_\")\n",
    "    fig.savefig(\n",
    "        f\"../Images/Course/{file_name}\",\n",
    "        format='jpg',\n",
    "        bbox_inches='tight',\n",
    "        pad_inches=0.5\n",
    "    )\n",
    "    plt.close(fig)\n",
    "\n"
   ]
  }
 ],
 "metadata": {
  "kernelspec": {
   "display_name": "base",
   "language": "python",
   "name": "python3"
  },
  "language_info": {
   "codemirror_mode": {
    "name": "ipython",
    "version": 3
   },
   "file_extension": ".py",
   "mimetype": "text/x-python",
   "name": "python",
   "nbconvert_exporter": "python",
   "pygments_lexer": "ipython3",
   "version": "3.11.7"
  }
 },
 "nbformat": 4,
 "nbformat_minor": 5
}
