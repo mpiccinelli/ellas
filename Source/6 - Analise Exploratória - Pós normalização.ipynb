{
 "cells": [
  {
   "cell_type": "markdown",
   "id": "d22481da-44c2-4e51-a32f-a0c2d711c053",
   "metadata": {},
   "source": [
    "# Análise exploratória"
   ]
  },
  {
   "cell_type": "markdown",
   "id": "892b5f63",
   "metadata": {},
   "source": [
    "## Carregamento e preparação dos dados"
   ]
  },
  {
   "cell_type": "markdown",
   "id": "370ec855-083f-4859-bf92-513517deb207",
   "metadata": {
    "jp-MarkdownHeadingCollapsed": true
   },
   "source": [
    "### Obtenção e carregamento de dados  "
   ]
  },
  {
   "cell_type": "code",
   "execution_count": null,
   "id": "fe43db2f-1929-4b0b-8a5c-23317b96f039",
   "metadata": {},
   "outputs": [],
   "source": [
    "#importação de bibliotecas\n",
    "import pandas as pd\n",
    "\n",
    "import numpy as np\n",
    "\n",
    "import seaborn as sns\n",
    "import matplotlib.pyplot as plt\n",
    "\n"
   ]
  },
  {
   "cell_type": "code",
   "execution_count": null,
   "id": "239aa350-f99e-4d67-8a1e-e7ca5edc018e",
   "metadata": {},
   "outputs": [],
   "source": [
    "# Importação dos dados\n",
    "df_dataset = pd.read_csv('../Data/Consolidated/data_encoded.csv', sep=';', encoding='utf-8', on_bad_lines='skip')\n",
    "\n",
    "# Carregar dicionário de dados\n",
    "df_dictionary = pd.read_csv(\"../Data/Consolidated/dictionary_consolidated.csv\", encoding=\"ISO-8859-1\", sep=\";\", on_bad_lines='skip')"
   ]
  },
  {
   "cell_type": "markdown",
   "id": "fee30b6c",
   "metadata": {},
   "source": [
    "### Informações sobre o dataset"
   ]
  },
  {
   "cell_type": "code",
   "execution_count": null,
   "id": "14528b43",
   "metadata": {},
   "outputs": [],
   "source": [
    "#Exibir informações sobre o dataframe\n",
    "df_dataset.info()\n",
    "\n",
    "#Exibir as primeiras linhas do dataframe\n",
    "df_dataset.describe()"
   ]
  },
  {
   "cell_type": "markdown",
   "id": "85d97261",
   "metadata": {},
   "source": [
    "### Visualização inicial dos dados"
   ]
  },
  {
   "cell_type": "code",
   "execution_count": null,
   "id": "59372e48",
   "metadata": {},
   "outputs": [],
   "source": [
    "#Exibir as primeiras linhas do dataframe\n",
    "df_dataset.head()"
   ]
  },
  {
   "cell_type": "markdown",
   "id": "c370d7c0",
   "metadata": {},
   "source": [
    "### Definição de índices"
   ]
  },
  {
   "cell_type": "code",
   "execution_count": null,
   "id": "cf1a0d52",
   "metadata": {},
   "outputs": [],
   "source": [
    "# Colocar a coluna 'Survey_id' na primeira posição\n",
    "df_dataset = df_dataset[['Survey_id'] + [col for col in df_dataset.columns if col != 'Survey_id']]\n",
    "\n",
    "# Definir o índice do dataframe como a coluna 'Survey_id'\n",
    "df_dataset.set_index('Survey_id', inplace=True)\n",
    "\n",
    "# Exibir as primeiras linhas do dataframe\n",
    "df_dataset.head()"
   ]
  },
  {
   "cell_type": "markdown",
   "id": "250f2fe2",
   "metadata": {},
   "source": [
    "## Análise de variáveis"
   ]
  },
  {
   "cell_type": "code",
   "execution_count": null,
   "id": "86f97be1",
   "metadata": {},
   "outputs": [],
   "source": [
    "\n",
    "\n",
    "# 3) Inventário de variáveis\n",
    "meta = df_dictionary[['Variable', 'Type', 'Question']].rename(columns={\n",
    "    'Variable':'column', 'Type':'type', 'Question':'description'\n",
    "})\n",
    "print(\"Metadados das variáveis:\")\n",
    "display(meta)\n",
    "\n",
    "# 4) Qualidade dos dados\n",
    "\n",
    "mapping = dict(zip(meta['column'], meta['description']))\n",
    "\n",
    "# 4.1) Informações gerais\n",
    "print(\"\\nInformações gerais do DataFrame:\")\n",
    "df_dataset.info()\n",
    "\n",
    "# 4.2) Valores faltantes\n",
    "missing = df_dataset.isna().sum().to_frame('n_missing')\n",
    "missing['pct_missing'] = (missing['n_missing'] / len(df_dataset)) * 100\n",
    "\n",
    "missing = (\n",
    "    missing\n",
    "    .reset_index()\n",
    "    .rename(columns={'index':'column'})\n",
    "    # 4) Adiciona a pergunta correspondente via mapeamento\n",
    "    .assign(question=lambda df: df['column'].map(mapping))\n",
    "    # 5) Reordena as colunas e ordena pelo % de faltantes\n",
    "    .loc[:, ['column','question','n_missing','pct_missing']]\n",
    "    .sort_values('pct_missing', ascending=False)\n",
    ")\n",
    "display(missing.head(50))\n",
    "\n",
    "# 4.3) Duplicatas\n",
    "n_dup = df_dataset.duplicated().sum()\n",
    "print(f\"\\nRegistros duplicados: {n_dup}\")\n",
    "\n",
    "# 5) Estatísticas descritivas\n",
    "# 5.1) Numéricas\n",
    "print(\"\\nEstatísticas descritivas (numéricas):\")\n",
    "display(df_dataset.select_dtypes(include=[np.number]).describe().T)\n",
    "\n",
    "# 5.2) Categóricas\n",
    "cat_cols = df_dataset.select_dtypes(include=['object', 'category']).columns\n",
    "print(\"\\nContagem das 5 principais categorias em cada variável categórica:\")\n",
    "for col in cat_cols:\n",
    "    vc = df_dataset[col].value_counts(dropna=False).head(5)\n",
    "    print(f\"\\n{col}:\")\n",
    "    print(vc.to_string())\n"
   ]
  }
 ],
 "metadata": {
  "kernelspec": {
   "display_name": "base",
   "language": "python",
   "name": "python3"
  },
  "language_info": {
   "codemirror_mode": {
    "name": "ipython",
    "version": 3
   },
   "file_extension": ".py",
   "mimetype": "text/x-python",
   "name": "python",
   "nbconvert_exporter": "python",
   "pygments_lexer": "ipython3",
   "version": "3.11.7"
  }
 },
 "nbformat": 4,
 "nbformat_minor": 5
}
