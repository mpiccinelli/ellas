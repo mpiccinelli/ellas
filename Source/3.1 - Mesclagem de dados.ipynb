{
 "cells": [
  {
   "cell_type": "markdown",
   "id": "d22481da-44c2-4e51-a32f-a0c2d711c053",
   "metadata": {},
   "source": [
    "# Análise exploratória"
   ]
  },
  {
   "cell_type": "markdown",
   "id": "892b5f63",
   "metadata": {},
   "source": [
    "## Carregamento e preparação dos dados"
   ]
  },
  {
   "cell_type": "markdown",
   "id": "370ec855-083f-4859-bf92-513517deb207",
   "metadata": {
    "jp-MarkdownHeadingCollapsed": true
   },
   "source": [
    "### Obtenção e carregamento de dados  "
   ]
  },
  {
   "cell_type": "code",
   "execution_count": null,
   "id": "fe43db2f-1929-4b0b-8a5c-23317b96f039",
   "metadata": {},
   "outputs": [],
   "source": [
    "#importação de bibliotecas\n",
    "import pandas as pd"
   ]
  },
  {
   "cell_type": "code",
   "execution_count": null,
   "id": "239aa350-f99e-4d67-8a1e-e7ca5edc018e",
   "metadata": {},
   "outputs": [],
   "source": [
    "# Importação dos dados gerais\n",
    "df_dataset_cleaned = pd.read_csv('../Data/data_cleaned.csv', sep=';', encoding='utf-8-sig')\n",
    "\n",
    "# Importação dos dados de gênero\n",
    "df_gender = pd.read_csv('../Data/Gender/normalization_gender_data.csv', sep=';', encoding='utf-8-sig')"
   ]
  },
  {
   "cell_type": "markdown",
   "id": "fee30b6c",
   "metadata": {},
   "source": [
    "### Informações sobre o dataset principal"
   ]
  },
  {
   "cell_type": "code",
   "execution_count": null,
   "id": "14528b43",
   "metadata": {},
   "outputs": [],
   "source": [
    "#Exibir informações sobre o dataframe\n",
    "df_dataset_cleaned.info()\n",
    "\n",
    "#Exibir as primeiras linhas do dataframe\n",
    "df_dataset_cleaned.describe()"
   ]
  },
  {
   "cell_type": "markdown",
   "id": "85d97261",
   "metadata": {},
   "source": [
    "### Visualização dos dados principais"
   ]
  },
  {
   "cell_type": "code",
   "execution_count": null,
   "id": "59372e48",
   "metadata": {},
   "outputs": [],
   "source": [
    "#Exibir as primeiras linhas do dataframe\n",
    "df_dataset_cleaned.head()"
   ]
  },
  {
   "cell_type": "markdown",
   "id": "c370d7c0",
   "metadata": {},
   "source": [
    "### Definição de índices do dataset principal"
   ]
  },
  {
   "cell_type": "code",
   "execution_count": null,
   "id": "cf1a0d52",
   "metadata": {},
   "outputs": [],
   "source": [
    "# Colocar a coluna 'survey_Id' na primeira posição\n",
    "df_dataset_cleaned = df_dataset_cleaned[['survey_Id'] + [col for col in df_dataset_cleaned.columns if col != 'survey_Id']]\n",
    "\n",
    "# Definir o índice do dataframe como a coluna 'survey_Id'\n",
    "df_dataset_cleaned.set_index('survey_Id', inplace=True)\n",
    "\n",
    "# Exibir as primeiras linhas do dataframe\n",
    "df_dataset_cleaned.head()"
   ]
  },
  {
   "cell_type": "markdown",
   "id": "be2dfd1a",
   "metadata": {},
   "source": [
    "### Informações sobre o dataset de gêneros"
   ]
  },
  {
   "cell_type": "code",
   "execution_count": null,
   "id": "a558c016",
   "metadata": {},
   "outputs": [],
   "source": [
    "#Exibir informações sobre o dataframe\n",
    "df_gender.info()\n",
    "\n",
    "#Exibir as primeiras linhas do dataframe\n",
    "df_gender.describe()"
   ]
  },
  {
   "cell_type": "markdown",
   "id": "f8048dd3",
   "metadata": {},
   "source": [
    "### Visualização dos dados de gêneros"
   ]
  },
  {
   "cell_type": "code",
   "execution_count": null,
   "id": "14439aee",
   "metadata": {},
   "outputs": [],
   "source": [
    "# Exibir as primeiras linhas do dataframe\n",
    "df_gender.head()"
   ]
  },
  {
   "cell_type": "markdown",
   "id": "1894b2c5",
   "metadata": {},
   "source": [
    "### Definição de índices do dataset de gêneros"
   ]
  },
  {
   "cell_type": "code",
   "execution_count": null,
   "id": "00fdaa45",
   "metadata": {},
   "outputs": [],
   "source": [
    "# Colocar a coluna 'survey_Id' na primeira posição\n",
    "df_gender = df_gender[['survey_Id'] + [col for col in df_gender.columns if col != 'survey_Id']]\n",
    "\n",
    "# Definir o índice do dataframe como a coluna 'survey_Id'\n",
    "df_gender.set_index('survey_Id', inplace=True)\n",
    "\n",
    "# Exibir as primeiras linhas do dataframe\n",
    "df_gender.head()\n",
    "\n"
   ]
  },
  {
   "cell_type": "markdown",
   "id": "2039acc2",
   "metadata": {},
   "source": [
    "## Mesclagem dos datasets"
   ]
  },
  {
   "cell_type": "markdown",
   "id": "544474ce",
   "metadata": {},
   "source": [
    "### Combinar os dataframes"
   ]
  },
  {
   "cell_type": "code",
   "execution_count": null,
   "id": "02032968",
   "metadata": {},
   "outputs": [],
   "source": [
    "# Combinar os dois dataframes com base na coluna 'survey_Id'\n",
    "df_combined = df_dataset_cleaned.merge(df_gender[['SOGIE', 'SOGIE_Classification']], left_index=True, right_index=True, how='inner')\n",
    "\n",
    "# Exibir as primeiras linhas do novo dataframe\n",
    "df_combined.head()"
   ]
  },
  {
   "cell_type": "markdown",
   "id": "4c50e44a",
   "metadata": {},
   "source": [
    "### Ordenar colunas"
   ]
  },
  {
   "cell_type": "code",
   "execution_count": null,
   "id": "e3e9c254",
   "metadata": {},
   "outputs": [],
   "source": [
    "# Reorganizar as colunas para posicionar 'SOGIE' e 'SOGIE_Classification' ao lado de 'D3_gender'\n",
    "cols = list(df_combined.columns)\n",
    "d3_gender_index = cols.index('D3_gender')\n",
    "cols.remove('SOGIE')\n",
    "cols.remove('SOGIE_Classification')\n",
    "cols = cols[:d3_gender_index + 1] + ['SOGIE', 'SOGIE_Classification'] + cols[d3_gender_index + 1:]\n",
    "df_combined = df_combined[cols]\n",
    "\n",
    "# Remover a coluna 'D3_gender'\n",
    "df_combined.drop(columns=['D3_gender'], inplace=True)\n",
    "\n",
    "# Renomear as colunas\n",
    "df_combined.rename(columns={'SOGIE': 'D3_gender', 'SOGIE_Classification': 'D3_gender_classification'}, inplace=True)\n",
    "\n",
    "# Exibir as primeiras linhas do DataFrame reorganizado\n",
    "df_combined.head()\n"
   ]
  },
  {
   "cell_type": "markdown",
   "id": "85c4e275",
   "metadata": {},
   "source": [
    "### Exportar dataset mesclado"
   ]
  },
  {
   "cell_type": "code",
   "execution_count": null,
   "id": "1d1964f4",
   "metadata": {},
   "outputs": [],
   "source": [
    "# Exportar o DataFrame combinado para um arquivo CSV\n",
    "df_combined.to_csv('../Data/Gender/data_gender_normalized.csv', sep=';', encoding='utf-8-sig')"
   ]
  }
 ],
 "metadata": {
  "kernelspec": {
   "display_name": "base",
   "language": "python",
   "name": "python3"
  },
  "language_info": {
   "codemirror_mode": {
    "name": "ipython",
    "version": 3
   },
   "file_extension": ".py",
   "mimetype": "text/x-python",
   "name": "python",
   "nbconvert_exporter": "python",
   "pygments_lexer": "ipython3",
   "version": "3.11.7"
  }
 },
 "nbformat": 4,
 "nbformat_minor": 5
}
